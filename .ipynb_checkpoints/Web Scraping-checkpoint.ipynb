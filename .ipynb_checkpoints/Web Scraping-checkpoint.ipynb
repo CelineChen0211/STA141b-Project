{
 "cells": [
  {
   "cell_type": "markdown",
   "metadata": {},
   "source": [
    "# Web Scraping from Indeed Website"
   ]
  },
  {
   "cell_type": "markdown",
   "metadata": {},
   "source": [
    "* Log: 02082017 Jiewei Chen Da Xue\n",
    "* Log: 02102016 Jiewei Chen Da Xue Nick Ulle\n",
    "* Log: 02212017 Jiewei Chen"
   ]
  },
  {
   "cell_type": "markdown",
   "metadata": {},
   "source": [
    "## Step 1. Using API get 5000 Posts"
   ]
  },
  {
   "cell_type": "code",
   "execution_count": 91,
   "metadata": {
    "collapsed": true
   },
   "outputs": [],
   "source": [
    "import requests\n",
    "import requests_cache\n",
    "requests_cache.install_cache(\"cache\")\n",
    "import pandas as pd\n",
    "from bs4 import BeautifulSoup"
   ]
  },
  {
   "cell_type": "code",
   "execution_count": 2,
   "metadata": {
    "collapsed": true
   },
   "outputs": [],
   "source": [
    "publisher_id = \"254802918413674\""
   ]
  },
  {
   "cell_type": "markdown",
   "metadata": {},
   "source": [
    "http://api.indeed.com/ads/apisearch?publisher=254802918413674&q=java&l=austin%2C+tx&sort=&radius=&st=&jt=&start=&limit=&fromage=&filter=&latlong=1&co=us&chnl=&userip=1.2.3.4&useragent=Mozilla/%2F4.0%28Firefox%29&v=2"
   ]
  },
  {
   "cell_type": "code",
   "execution_count": 50,
   "metadata": {
    "collapsed": true
   },
   "outputs": [],
   "source": [
    "url = \"http://api.indeed.com/ads/apisearch?publisher=254802918413674&format=json&q=data&l=sunnyvale%2C+ca&sort=&radius=0&st=&jt=internship&start=&limit=1000&fromage=30&filter=&latlong=1&co=us&chnl=&userip=1.2.3.4&useragent=Mozilla/%2F4.0%28Firefox%29&v=2\""
   ]
  },
  {
   "cell_type": "code",
   "execution_count": 3,
   "metadata": {
    "collapsed": false
   },
   "outputs": [],
   "source": [
    "def get_indeed(city, state, keyword, radius, jobtype = \"internship\", js = \"json\", start = 0, publisher_id = publisher_id):\n",
    "    url = \"http://api.indeed.com/ads/apisearch?\"\n",
    "    if city == \"\":\n",
    "        location = state\n",
    "    else: \n",
    "        location = city + ', ' + state\n",
    "    result = requests.get(url, params = {\n",
    "            \"q\": keyword,\n",
    "            \"v\": 2,\n",
    "            \"format\": js,\n",
    "            \"publisher\": publisher_id,\n",
    "            \"l\": location,\n",
    "            \"jt\": jobtype, # \"fulltime\", \"parttime\", \"contract\", \"internship\", \"temporary\"\n",
    "            \"radius\": radius,\n",
    "            \"start\": start,\n",
    "            \"limit\": 100})\n",
    "    result = result.json()['results']\n",
    "    return result"
   ]
  },
  {
   "cell_type": "code",
   "execution_count": 14,
   "metadata": {
    "collapsed": false
   },
   "outputs": [],
   "source": [
    "job_list = pd.DataFrame()\n",
    "for i in range(0,5001,25):\n",
    "    temp = pd.DataFrame(get_indeed('','ca', '\"data analyst\"', 0, start = i))\n",
    "    job_list = job_list.append(temp)\n"
   ]
  },
  {
   "cell_type": "code",
   "execution_count": 15,
   "metadata": {
    "collapsed": false
   },
   "outputs": [
    {
     "name": "stdout",
     "output_type": "stream",
     "text": [
      "(4221, 18)\n"
     ]
    },
    {
     "data": {
      "text/html": [
       "<div>\n",
       "<table border=\"1\" class=\"dataframe\">\n",
       "  <thead>\n",
       "    <tr style=\"text-align: right;\">\n",
       "      <th></th>\n",
       "      <th>city</th>\n",
       "      <th>company</th>\n",
       "      <th>country</th>\n",
       "      <th>date</th>\n",
       "      <th>expired</th>\n",
       "      <th>formattedLocation</th>\n",
       "      <th>formattedLocationFull</th>\n",
       "      <th>formattedRelativeTime</th>\n",
       "      <th>indeedApply</th>\n",
       "      <th>jobkey</th>\n",
       "      <th>jobtitle</th>\n",
       "      <th>onmousedown</th>\n",
       "      <th>snippet</th>\n",
       "      <th>source</th>\n",
       "      <th>sponsored</th>\n",
       "      <th>state</th>\n",
       "      <th>stations</th>\n",
       "      <th>url</th>\n",
       "    </tr>\n",
       "  </thead>\n",
       "  <tbody>\n",
       "    <tr>\n",
       "      <th>0</th>\n",
       "      <td>Burbank</td>\n",
       "      <td>Kaiser Permanente</td>\n",
       "      <td>US</td>\n",
       "      <td>Wed, 22 Feb 2017 00:08:47 GMT</td>\n",
       "      <td>False</td>\n",
       "      <td>Burbank, CA</td>\n",
       "      <td>Burbank, CA</td>\n",
       "      <td>1 hour ago</td>\n",
       "      <td>False</td>\n",
       "      <td>fdbd1113c5011d69</td>\n",
       "      <td>Market Data Analyst - Undergraduate Internship</td>\n",
       "      <td>indeed_clk(this,'5647');</td>\n",
       "      <td>Aptitude to perform &lt;b&gt;data&lt;/b&gt; and process an...</td>\n",
       "      <td>Kaiser Permanente</td>\n",
       "      <td>False</td>\n",
       "      <td>CA</td>\n",
       "      <td></td>\n",
       "      <td>http://www.indeed.com/viewjob?jk=fdbd1113c5011...</td>\n",
       "    </tr>\n",
       "    <tr>\n",
       "      <th>1</th>\n",
       "      <td>Oakland</td>\n",
       "      <td>Clorox</td>\n",
       "      <td>US</td>\n",
       "      <td>Mon, 06 Feb 2017 23:25:16 GMT</td>\n",
       "      <td>False</td>\n",
       "      <td>Oakland, CA</td>\n",
       "      <td>Oakland, CA 94612</td>\n",
       "      <td>15 days ago</td>\n",
       "      <td>False</td>\n",
       "      <td>456e90c7ee9c4936</td>\n",
       "      <td>Global Insights Data Analyst Data Science Inte...</td>\n",
       "      <td>indeed_clk(this,'5647');</td>\n",
       "      <td>The Global Insights &lt;b&gt;Data&lt;/b&gt; &lt;b&gt;Analyst&lt;/b&gt;...</td>\n",
       "      <td>The Clorox Company</td>\n",
       "      <td>False</td>\n",
       "      <td>CA</td>\n",
       "      <td></td>\n",
       "      <td>http://www.indeed.com/viewjob?jk=456e90c7ee9c4...</td>\n",
       "    </tr>\n",
       "    <tr>\n",
       "      <th>2</th>\n",
       "      <td>Redwood City</td>\n",
       "      <td>Proteus Digital Health</td>\n",
       "      <td>US</td>\n",
       "      <td>Fri, 17 Feb 2017 04:08:45 GMT</td>\n",
       "      <td>False</td>\n",
       "      <td>Redwood City, CA</td>\n",
       "      <td>Redwood City, CA 94065</td>\n",
       "      <td>4 days ago</td>\n",
       "      <td>False</td>\n",
       "      <td>676ec709d44d20b9</td>\n",
       "      <td>Data Analyst Intern</td>\n",
       "      <td>indeed_clk(this,'5647');</td>\n",
       "      <td>Mine, clean, and categorize historical &lt;b&gt;data...</td>\n",
       "      <td>Proteus Digital Health</td>\n",
       "      <td>False</td>\n",
       "      <td>CA</td>\n",
       "      <td></td>\n",
       "      <td>http://www.indeed.com/viewjob?jk=676ec709d44d2...</td>\n",
       "    </tr>\n",
       "    <tr>\n",
       "      <th>3</th>\n",
       "      <td>Santa Clara</td>\n",
       "      <td>GLOBALFOUNDRIES</td>\n",
       "      <td>US</td>\n",
       "      <td>Wed, 08 Feb 2017 07:12:14 GMT</td>\n",
       "      <td>False</td>\n",
       "      <td>Santa Clara, CA</td>\n",
       "      <td>Santa Clara, CA</td>\n",
       "      <td>13 days ago</td>\n",
       "      <td>False</td>\n",
       "      <td>2597a304d86609fc</td>\n",
       "      <td>Data Analyst-Intern</td>\n",
       "      <td>indeed_clk(this,'5647');</td>\n",
       "      <td>&lt;b&gt;Data&lt;/b&gt; analysis and validation. Database ...</td>\n",
       "      <td>GLOBALFOUNDRIES</td>\n",
       "      <td>False</td>\n",
       "      <td>CA</td>\n",
       "      <td></td>\n",
       "      <td>http://www.indeed.com/viewjob?jk=2597a304d8660...</td>\n",
       "    </tr>\n",
       "    <tr>\n",
       "      <th>4</th>\n",
       "      <td>San Francisco</td>\n",
       "      <td>Samasource</td>\n",
       "      <td>US</td>\n",
       "      <td>Fri, 17 Feb 2017 03:46:33 GMT</td>\n",
       "      <td>False</td>\n",
       "      <td>San Francisco, CA</td>\n",
       "      <td>San Francisco, CA</td>\n",
       "      <td>4 days ago</td>\n",
       "      <td>False</td>\n",
       "      <td>e726041a4f3ec15b</td>\n",
       "      <td>Project/Data Analyst Internship</td>\n",
       "      <td>indeed_clk(this,'5647');</td>\n",
       "      <td>The &lt;b&gt;analyst&lt;/b&gt; intern analyzes project per...</td>\n",
       "      <td>Samasource</td>\n",
       "      <td>False</td>\n",
       "      <td>CA</td>\n",
       "      <td></td>\n",
       "      <td>http://www.indeed.com/viewjob?jk=e726041a4f3ec...</td>\n",
       "    </tr>\n",
       "  </tbody>\n",
       "</table>\n",
       "</div>"
      ],
      "text/plain": [
       "            city                 company country  \\\n",
       "0        Burbank       Kaiser Permanente      US   \n",
       "1        Oakland                  Clorox      US   \n",
       "2   Redwood City  Proteus Digital Health      US   \n",
       "3    Santa Clara         GLOBALFOUNDRIES      US   \n",
       "4  San Francisco              Samasource      US   \n",
       "\n",
       "                            date expired  formattedLocation  \\\n",
       "0  Wed, 22 Feb 2017 00:08:47 GMT   False        Burbank, CA   \n",
       "1  Mon, 06 Feb 2017 23:25:16 GMT   False        Oakland, CA   \n",
       "2  Fri, 17 Feb 2017 04:08:45 GMT   False   Redwood City, CA   \n",
       "3  Wed, 08 Feb 2017 07:12:14 GMT   False    Santa Clara, CA   \n",
       "4  Fri, 17 Feb 2017 03:46:33 GMT   False  San Francisco, CA   \n",
       "\n",
       "    formattedLocationFull formattedRelativeTime indeedApply            jobkey  \\\n",
       "0             Burbank, CA            1 hour ago       False  fdbd1113c5011d69   \n",
       "1       Oakland, CA 94612           15 days ago       False  456e90c7ee9c4936   \n",
       "2  Redwood City, CA 94065            4 days ago       False  676ec709d44d20b9   \n",
       "3         Santa Clara, CA           13 days ago       False  2597a304d86609fc   \n",
       "4       San Francisco, CA            4 days ago       False  e726041a4f3ec15b   \n",
       "\n",
       "                                            jobtitle  \\\n",
       "0     Market Data Analyst - Undergraduate Internship   \n",
       "1  Global Insights Data Analyst Data Science Inte...   \n",
       "2                                Data Analyst Intern   \n",
       "3                                Data Analyst-Intern   \n",
       "4                    Project/Data Analyst Internship   \n",
       "\n",
       "                onmousedown  \\\n",
       "0  indeed_clk(this,'5647');   \n",
       "1  indeed_clk(this,'5647');   \n",
       "2  indeed_clk(this,'5647');   \n",
       "3  indeed_clk(this,'5647');   \n",
       "4  indeed_clk(this,'5647');   \n",
       "\n",
       "                                             snippet                  source  \\\n",
       "0  Aptitude to perform <b>data</b> and process an...       Kaiser Permanente   \n",
       "1  The Global Insights <b>Data</b> <b>Analyst</b>...      The Clorox Company   \n",
       "2  Mine, clean, and categorize historical <b>data...  Proteus Digital Health   \n",
       "3  <b>Data</b> analysis and validation. Database ...         GLOBALFOUNDRIES   \n",
       "4  The <b>analyst</b> intern analyzes project per...              Samasource   \n",
       "\n",
       "  sponsored state stations                                                url  \n",
       "0     False    CA           http://www.indeed.com/viewjob?jk=fdbd1113c5011...  \n",
       "1     False    CA           http://www.indeed.com/viewjob?jk=456e90c7ee9c4...  \n",
       "2     False    CA           http://www.indeed.com/viewjob?jk=676ec709d44d2...  \n",
       "3     False    CA           http://www.indeed.com/viewjob?jk=2597a304d8660...  \n",
       "4     False    CA           http://www.indeed.com/viewjob?jk=e726041a4f3ec...  "
      ]
     },
     "execution_count": 15,
     "metadata": {},
     "output_type": "execute_result"
    }
   ],
   "source": [
    "print(job_list.shape)\n",
    "job_list.head()"
   ]
  },
  {
   "cell_type": "markdown",
   "metadata": {},
   "source": [
    "## Problems"
   ]
  },
  {
   "cell_type": "markdown",
   "metadata": {},
   "source": [
    "<ol>\n",
    "    <li> Can only get at max 25 jobs per request <font color=\"red\">Change start params</font>\n",
    "    <li> When search for \"Data Analyst\", it is actually searching for \"Data\" and \"Analyst\" as two seperated key words\n",
    "    <li> Cannot extract the job requirement information <font color=\"red\"> Probably need web scraping </font>\n",
    "    <li> \n",
    "</ol>"
   ]
  },
  {
   "cell_type": "markdown",
   "metadata": {
    "collapsed": true
   },
   "source": [
    "## Step 2. Webscraping each post"
   ]
  },
  {
   "cell_type": "code",
   "execution_count": 66,
   "metadata": {
    "collapsed": true
   },
   "outputs": [],
   "source": [
    "url_list = list(job_list['url'])"
   ]
  },
  {
   "cell_type": "code",
   "execution_count": 147,
   "metadata": {
    "collapsed": false
   },
   "outputs": [],
   "source": [
    "def get_post_details(url):\n",
    "    \"\"\"\n",
    "    This function extracts information of the one post by taking a url as input\n",
    "    Output is a dictionary with job title, company name, and description of the job.\n",
    "    \"\"\"\n",
    "    post_doc = requests.get(url).content\n",
    "    post = BeautifulSoup(post_doc, 'html.parser')\n",
    "    \n",
    "    title = post.find('b',attrs={'class':'jobtitle'}).text\n",
    "    company = post.find(attrs={'class':'company'}).text\n",
    "    dis_html = post.find(attrs={'id':'job_summary'})\n",
    "    #subtitle_html = dis_html.find_all('b')\n",
    "    #subtitle = [txt.text for txt in subtitle_html]\n",
    "    post_dict = {'title':title, 'company':company, 'description':dis_html}\n",
    "    return post_dict"
   ]
  },
  {
   "cell_type": "code",
   "execution_count": 132,
   "metadata": {
    "collapsed": false
   },
   "outputs": [
    {
     "data": {
      "text/plain": [
       "'Market Data Analyst - Undergraduate Internship'"
      ]
     },
     "execution_count": 132,
     "metadata": {},
     "output_type": "execute_result"
    }
   ],
   "source": [
    "list(get_post_details(url_list[0]).values())[2]"
   ]
  },
  {
   "cell_type": "code",
   "execution_count": 143,
   "metadata": {
    "collapsed": false
   },
   "outputs": [
    {
     "data": {
      "text/html": [
       "<div>\n",
       "<table border=\"1\" class=\"dataframe\">\n",
       "  <thead>\n",
       "    <tr style=\"text-align: right;\">\n",
       "      <th></th>\n",
       "      <th>0</th>\n",
       "    </tr>\n",
       "  </thead>\n",
       "  <tbody>\n",
       "    <tr>\n",
       "      <th>0</th>\n",
       "      <td>Kaiser Permanente</td>\n",
       "    </tr>\n",
       "    <tr>\n",
       "      <th>1</th>\n",
       "      <td>&lt;span class=\"summary\" id=\"job_summary\"&gt;Lay the...</td>\n",
       "    </tr>\n",
       "    <tr>\n",
       "      <th>2</th>\n",
       "      <td>Market Data Analyst - Undergraduate Internship</td>\n",
       "    </tr>\n",
       "  </tbody>\n",
       "</table>\n",
       "</div>"
      ],
      "text/plain": [
       "                                                   0\n",
       "0                                  Kaiser Permanente\n",
       "1  <span class=\"summary\" id=\"job_summary\">Lay the...\n",
       "2     Market Data Analyst - Undergraduate Internship"
      ]
     },
     "execution_count": 143,
     "metadata": {},
     "output_type": "execute_result"
    }
   ],
   "source": [
    "pd.DataFrame(list(get_post_details(url_list[0]).values())[1:])"
   ]
  },
  {
   "cell_type": "code",
   "execution_count": 148,
   "metadata": {
    "collapsed": false
   },
   "outputs": [],
   "source": [
    "post_summary = pd.DataFrame()\n",
    "for url in url_list:\n",
    "    temp = pd.DataFrame(list(get_post_details(url).values())).T\n",
    "    post_summary = post_summary.append(temp)\n",
    "post_summary.columns = ['company','description','job title']    "
   ]
  },
  {
   "cell_type": "code",
   "execution_count": 149,
   "metadata": {
    "collapsed": false
   },
   "outputs": [
    {
     "data": {
      "text/html": [
       "<div>\n",
       "<table border=\"1\" class=\"dataframe\">\n",
       "  <thead>\n",
       "    <tr style=\"text-align: right;\">\n",
       "      <th></th>\n",
       "      <th>company</th>\n",
       "      <th>description</th>\n",
       "      <th>job title</th>\n",
       "    </tr>\n",
       "  </thead>\n",
       "  <tbody>\n",
       "    <tr>\n",
       "      <th>0</th>\n",
       "      <td>KLA-Tencor</td>\n",
       "      <td>&lt;span class=\"summary\" id=\"job_summary\"&gt;KLA-Ten...</td>\n",
       "      <td>Intern / Co-Op Technical</td>\n",
       "    </tr>\n",
       "    <tr>\n",
       "      <th>0</th>\n",
       "      <td>Lyft Corporate</td>\n",
       "      <td>&lt;span class=\"summary\" id=\"job_summary\"&gt;Analyti...</td>\n",
       "      <td>Data Analyst Intern (Summer 2017)</td>\n",
       "    </tr>\n",
       "    <tr>\n",
       "      <th>0</th>\n",
       "      <td>Rubin Postaer and Associates (RPA)</td>\n",
       "      <td>&lt;span class=\"summary\" id=\"job_summary\"&gt;The Res...</td>\n",
       "      <td>Summer Internship - Research, Analytics + Insi...</td>\n",
       "    </tr>\n",
       "    <tr>\n",
       "      <th>0</th>\n",
       "      <td>Quidel Corporation</td>\n",
       "      <td>&lt;span class=\"summary\" id=\"job_summary\"&gt;Quidel ...</td>\n",
       "      <td>Internship, Data Analyst/Business Intelligence...</td>\n",
       "    </tr>\n",
       "    <tr>\n",
       "      <th>0</th>\n",
       "      <td>Teradata</td>\n",
       "      <td>&lt;span class=\"summary\" id=\"job_summary\"&gt;Teradat...</td>\n",
       "      <td>Data Analyst and Test Development Intern (Summ...</td>\n",
       "    </tr>\n",
       "  </tbody>\n",
       "</table>\n",
       "</div>"
      ],
      "text/plain": [
       "                              company  \\\n",
       "0                          KLA-Tencor   \n",
       "0                      Lyft Corporate   \n",
       "0  Rubin Postaer and Associates (RPA)   \n",
       "0                  Quidel Corporation   \n",
       "0                            Teradata   \n",
       "\n",
       "                                         description  \\\n",
       "0  <span class=\"summary\" id=\"job_summary\">KLA-Ten...   \n",
       "0  <span class=\"summary\" id=\"job_summary\">Analyti...   \n",
       "0  <span class=\"summary\" id=\"job_summary\">The Res...   \n",
       "0  <span class=\"summary\" id=\"job_summary\">Quidel ...   \n",
       "0  <span class=\"summary\" id=\"job_summary\">Teradat...   \n",
       "\n",
       "                                           job title  \n",
       "0                           Intern / Co-Op Technical  \n",
       "0                  Data Analyst Intern (Summer 2017)  \n",
       "0  Summer Internship - Research, Analytics + Insi...  \n",
       "0  Internship, Data Analyst/Business Intelligence...  \n",
       "0  Data Analyst and Test Development Intern (Summ...  "
      ]
     },
     "execution_count": 149,
     "metadata": {},
     "output_type": "execute_result"
    }
   ],
   "source": [
    "post_summary.tail()"
   ]
  },
  {
   "cell_type": "code",
   "execution_count": 155,
   "metadata": {
    "collapsed": false
   },
   "outputs": [
    {
     "data": {
      "text/plain": [
       "\"Lay the groundwork for a dynamic future with an industry leader. At Kaiser Permanente, you'll forge lasting relationships with\\n\\ncolleagues across the organization while enjoying the opportunity to grow your experience and hone your expertise on assignments\\n\\nthat have real impact. Our interns have worked on everything from analyzing financial software and developing new marketing\\n\\nstrategies, to designing mobile apps and helping clinicians improve care delivery. We want you to get the most out of your time here\\n\\nand will give you projects that challenge you to think freely, question thoroughly, and explore deeply.\\n\\nEssential Functions:\\n\\nContributing to a designated project or initiative to meet a KP business objective.\\nReport development and analytics.\\nProject management - planning, execution, and measurement.\\nLearning new applications needed to complete assignments or support the execution of business objectives.\\nJob shadowing in other functional areas.\\nPerforming additional duties as required.\\n\\nDepartment Profile:\\nMembership, Market & Sales Analytics is responsible for forecasting and analysis of Kaiser membership.\\n\\nInternship Project Summary:\\n1) Explore MDW/MMSA Datamart Report Migration\\n\\n2) Develop Adds/Terms/Transfers Database to support forecasting at this level of detail\\n\\n3) Create Med Center Trend Database to better inform our MCA projections within budgets, LRF and monthly reforecasts\\n\\n4) Assess our Reforecast process, with focus on our Initial Analysis, and support development of a further streamlined process\\n\\n5) Create templates to further align the reforecast process in NCAL & SCAL\\n\\n6) Convert BL Materials to Box (online app to share documents)\\n\\nDesired Skill Set:\\nAnalytical, problem solver, inquisitive, and motivated. Regression modeling and excel/Access/SAS experience preferred.\\n\\nQualifications\\n\\nBasic Qualifications:\\nExperience\\n\\n\\nN/A\\n\\nEducation\\n\\n\\nPursuing a bachelor's degree or have graduated from an accredited university within the last year.\\nHigh School Diploma or General Education Development (GED) required.\\n\\nLicense, Certification, Registration\\n\\n\\nN/A\\n\\nAdditional Requirements:\\n\\nAptitude to perform data and process analytics and formulating solutions\\nWorking knowledge of MS Word, Excel, PowerPoint.\\n\\nPreferred Qualifications:\\n\\n3.0 GPA or above.\\nAdvanced analytical and problem-solving skills.\\nProven ability to build effective working relationships as well as strong interpersonal skills.\\nExcellent verbal and written communication skills\\nAbility to learn quickly and experience producing high quality work in short periods of time.\\n\\n\""
      ]
     },
     "execution_count": 155,
     "metadata": {},
     "output_type": "execute_result"
    }
   ],
   "source": [
    "# subtitle inside job description\n",
    "list(post_summary['description'])[0].find_all('b')\n",
    "\n",
    "# The whole paragraph of description\n",
    "list(post_summary['description'])[0].text\n"
   ]
  },
  {
   "cell_type": "markdown",
   "metadata": {},
   "source": [
    "# Strategy for Extracting Qualifications\n",
    "<ol>\n",
    "    <li> compare all subtitles and find out which subtitles are \"Qualifications\"\n",
    "    <li> split text by using subtitles\n",
    "    <li> compare the word in qualifications and analyze\n",
    "    \n",
    "</ol>"
   ]
  },
  {
   "cell_type": "code",
   "execution_count": null,
   "metadata": {
    "collapsed": true
   },
   "outputs": [],
   "source": []
  }
 ],
 "metadata": {
  "anaconda-cloud": {},
  "kernelspec": {
   "display_name": "Python [default]",
   "language": "python",
   "name": "python3"
  },
  "language_info": {
   "codemirror_mode": {
    "name": "ipython",
    "version": 3
   },
   "file_extension": ".py",
   "mimetype": "text/x-python",
   "name": "python",
   "nbconvert_exporter": "python",
   "pygments_lexer": "ipython3",
   "version": "3.5.2"
  }
 },
 "nbformat": 4,
 "nbformat_minor": 1
}
