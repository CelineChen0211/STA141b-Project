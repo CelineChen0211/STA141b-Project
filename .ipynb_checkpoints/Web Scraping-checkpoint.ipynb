{
 "cells": [
  {
   "cell_type": "markdown",
   "metadata": {},
   "source": [
    "# Web Scraping from Indeed Website"
   ]
  },
  {
   "cell_type": "markdown",
   "metadata": {},
   "source": [
    "* Log: 02082017 Jiewei Chen Da Xue\n",
    "* Log: 02102016 Jiewei Chen Da Xue Nick Ulle\n",
    "* Log: 02212017 Jiewei Chen"
   ]
  },
  {
   "cell_type": "markdown",
   "metadata": {},
   "source": [
    "## Step 1. Using API get 5000 Posts"
   ]
  },
  {
   "cell_type": "code",
   "execution_count": 47,
   "metadata": {
    "collapsed": true
   },
   "outputs": [],
   "source": [
    "import requests\n",
    "import requests_cache\n",
    "requests_cache.install_cache(\"cache\")\n",
    "import pandas as pd\n",
    "from bs4 import BeautifulSoup\n",
    "\n",
    "\n",
    "import string\n",
    "import nltk\n",
    "#from nltk import corpus\n",
    "from nltk.stem.porter import PorterStemmer\n",
    "from nltk.corpus import stopwords\n",
    "from sklearn.feature_extraction.text import TfidfVectorizer   # sklearn --- primer machine learning package\n",
    "from sklearn.neighbors import NearestNeighbors"
   ]
  },
  {
   "cell_type": "code",
   "execution_count": 2,
   "metadata": {
    "collapsed": true
   },
   "outputs": [],
   "source": [
    "publisher_id = \"254802918413674\""
   ]
  },
  {
   "cell_type": "markdown",
   "metadata": {},
   "source": [
    "http://api.indeed.com/ads/apisearch?publisher=254802918413674&q=java&l=austin%2C+tx&sort=&radius=&st=&jt=&start=&limit=&fromage=&filter=&latlong=1&co=us&chnl=&userip=1.2.3.4&useragent=Mozilla/%2F4.0%28Firefox%29&v=2"
   ]
  },
  {
   "cell_type": "code",
   "execution_count": 50,
   "metadata": {
    "collapsed": true
   },
   "outputs": [],
   "source": [
    "url = \"http://api.indeed.com/ads/apisearch?publisher=254802918413674&format=json&q=data&l=sunnyvale%2C+ca&sort=&radius=0&st=&jt=internship&start=&limit=1000&fromage=30&filter=&latlong=1&co=us&chnl=&userip=1.2.3.4&useragent=Mozilla/%2F4.0%28Firefox%29&v=2\""
   ]
  },
  {
   "cell_type": "code",
   "execution_count": 3,
   "metadata": {
    "collapsed": false
   },
   "outputs": [],
   "source": [
    "def get_indeed(city, state, keyword, radius, jobtype = \"internship\", js = \"json\", start = 0, publisher_id = publisher_id):\n",
    "    url = \"http://api.indeed.com/ads/apisearch?\"\n",
    "    if city == \"\":\n",
    "        location = state\n",
    "    else: \n",
    "        location = city + ', ' + state\n",
    "    result = requests.get(url, params = {\n",
    "            \"q\": keyword,\n",
    "            \"v\": 2,\n",
    "            \"format\": js,\n",
    "            \"publisher\": publisher_id,\n",
    "            \"l\": location,\n",
    "            \"jt\": jobtype, # \"fulltime\", \"parttime\", \"contract\", \"internship\", \"temporary\"\n",
    "            \"radius\": radius,\n",
    "            \"start\": start,\n",
    "            \"limit\": 100})\n",
    "    result = result.json()['results']\n",
    "    return result"
   ]
  },
  {
   "cell_type": "code",
   "execution_count": 4,
   "metadata": {
    "collapsed": false
   },
   "outputs": [],
   "source": [
    "job_list = pd.DataFrame()\n",
    "for i in range(0,5001,25):\n",
    "    temp = pd.DataFrame(get_indeed('','ca', '\"data analyst\"', 0, start = i))\n",
    "    job_list = job_list.append(temp)\n"
   ]
  },
  {
   "cell_type": "markdown",
   "metadata": {},
   "source": [
    "Save Result to a csv file, so that next time we run this code it will be faster. Don't need to reload from website."
   ]
  },
  {
   "cell_type": "code",
   "execution_count": 88,
   "metadata": {
    "collapsed": true
   },
   "outputs": [],
   "source": [
    "# job_list.to_csv('job_ca_dataanalyst.csv')"
   ]
  },
  {
   "cell_type": "code",
   "execution_count": 5,
   "metadata": {
    "collapsed": false
   },
   "outputs": [
    {
     "name": "stdout",
     "output_type": "stream",
     "text": [
      "(4221, 18)\n"
     ]
    },
    {
     "data": {
      "text/html": [
       "<div>\n",
       "<table border=\"1\" class=\"dataframe\">\n",
       "  <thead>\n",
       "    <tr style=\"text-align: right;\">\n",
       "      <th></th>\n",
       "      <th>city</th>\n",
       "      <th>company</th>\n",
       "      <th>country</th>\n",
       "      <th>date</th>\n",
       "      <th>expired</th>\n",
       "      <th>formattedLocation</th>\n",
       "      <th>formattedLocationFull</th>\n",
       "      <th>formattedRelativeTime</th>\n",
       "      <th>indeedApply</th>\n",
       "      <th>jobkey</th>\n",
       "      <th>jobtitle</th>\n",
       "      <th>onmousedown</th>\n",
       "      <th>snippet</th>\n",
       "      <th>source</th>\n",
       "      <th>sponsored</th>\n",
       "      <th>state</th>\n",
       "      <th>stations</th>\n",
       "      <th>url</th>\n",
       "    </tr>\n",
       "  </thead>\n",
       "  <tbody>\n",
       "    <tr>\n",
       "      <th>0</th>\n",
       "      <td>Burbank</td>\n",
       "      <td>Kaiser Permanente</td>\n",
       "      <td>US</td>\n",
       "      <td>Wed, 22 Feb 2017 00:08:47 GMT</td>\n",
       "      <td>False</td>\n",
       "      <td>Burbank, CA</td>\n",
       "      <td>Burbank, CA</td>\n",
       "      <td>1 hour ago</td>\n",
       "      <td>False</td>\n",
       "      <td>fdbd1113c5011d69</td>\n",
       "      <td>Market Data Analyst - Undergraduate Internship</td>\n",
       "      <td>indeed_clk(this,'5647');</td>\n",
       "      <td>Aptitude to perform &lt;b&gt;data&lt;/b&gt; and process an...</td>\n",
       "      <td>Kaiser Permanente</td>\n",
       "      <td>False</td>\n",
       "      <td>CA</td>\n",
       "      <td></td>\n",
       "      <td>http://www.indeed.com/viewjob?jk=fdbd1113c5011...</td>\n",
       "    </tr>\n",
       "    <tr>\n",
       "      <th>1</th>\n",
       "      <td>Oakland</td>\n",
       "      <td>Clorox</td>\n",
       "      <td>US</td>\n",
       "      <td>Mon, 06 Feb 2017 23:25:16 GMT</td>\n",
       "      <td>False</td>\n",
       "      <td>Oakland, CA</td>\n",
       "      <td>Oakland, CA 94612</td>\n",
       "      <td>15 days ago</td>\n",
       "      <td>False</td>\n",
       "      <td>456e90c7ee9c4936</td>\n",
       "      <td>Global Insights Data Analyst Data Science Inte...</td>\n",
       "      <td>indeed_clk(this,'5647');</td>\n",
       "      <td>The Global Insights &lt;b&gt;Data&lt;/b&gt; &lt;b&gt;Analyst&lt;/b&gt;...</td>\n",
       "      <td>The Clorox Company</td>\n",
       "      <td>False</td>\n",
       "      <td>CA</td>\n",
       "      <td></td>\n",
       "      <td>http://www.indeed.com/viewjob?jk=456e90c7ee9c4...</td>\n",
       "    </tr>\n",
       "    <tr>\n",
       "      <th>2</th>\n",
       "      <td>Redwood City</td>\n",
       "      <td>Proteus Digital Health</td>\n",
       "      <td>US</td>\n",
       "      <td>Fri, 17 Feb 2017 04:08:45 GMT</td>\n",
       "      <td>False</td>\n",
       "      <td>Redwood City, CA</td>\n",
       "      <td>Redwood City, CA 94065</td>\n",
       "      <td>4 days ago</td>\n",
       "      <td>False</td>\n",
       "      <td>676ec709d44d20b9</td>\n",
       "      <td>Data Analyst Intern</td>\n",
       "      <td>indeed_clk(this,'5647');</td>\n",
       "      <td>Mine, clean, and categorize historical &lt;b&gt;data...</td>\n",
       "      <td>Proteus Digital Health</td>\n",
       "      <td>False</td>\n",
       "      <td>CA</td>\n",
       "      <td></td>\n",
       "      <td>http://www.indeed.com/viewjob?jk=676ec709d44d2...</td>\n",
       "    </tr>\n",
       "    <tr>\n",
       "      <th>3</th>\n",
       "      <td>Santa Clara</td>\n",
       "      <td>GLOBALFOUNDRIES</td>\n",
       "      <td>US</td>\n",
       "      <td>Wed, 08 Feb 2017 07:12:14 GMT</td>\n",
       "      <td>False</td>\n",
       "      <td>Santa Clara, CA</td>\n",
       "      <td>Santa Clara, CA</td>\n",
       "      <td>13 days ago</td>\n",
       "      <td>False</td>\n",
       "      <td>2597a304d86609fc</td>\n",
       "      <td>Data Analyst-Intern</td>\n",
       "      <td>indeed_clk(this,'5647');</td>\n",
       "      <td>&lt;b&gt;Data&lt;/b&gt; analysis and validation. Database ...</td>\n",
       "      <td>GLOBALFOUNDRIES</td>\n",
       "      <td>False</td>\n",
       "      <td>CA</td>\n",
       "      <td></td>\n",
       "      <td>http://www.indeed.com/viewjob?jk=2597a304d8660...</td>\n",
       "    </tr>\n",
       "    <tr>\n",
       "      <th>4</th>\n",
       "      <td>San Francisco</td>\n",
       "      <td>Samasource</td>\n",
       "      <td>US</td>\n",
       "      <td>Fri, 17 Feb 2017 03:46:33 GMT</td>\n",
       "      <td>False</td>\n",
       "      <td>San Francisco, CA</td>\n",
       "      <td>San Francisco, CA</td>\n",
       "      <td>4 days ago</td>\n",
       "      <td>False</td>\n",
       "      <td>e726041a4f3ec15b</td>\n",
       "      <td>Project/Data Analyst Internship</td>\n",
       "      <td>indeed_clk(this,'5647');</td>\n",
       "      <td>The &lt;b&gt;analyst&lt;/b&gt; intern analyzes project per...</td>\n",
       "      <td>Samasource</td>\n",
       "      <td>False</td>\n",
       "      <td>CA</td>\n",
       "      <td></td>\n",
       "      <td>http://www.indeed.com/viewjob?jk=e726041a4f3ec...</td>\n",
       "    </tr>\n",
       "  </tbody>\n",
       "</table>\n",
       "</div>"
      ],
      "text/plain": [
       "            city                 company country  \\\n",
       "0        Burbank       Kaiser Permanente      US   \n",
       "1        Oakland                  Clorox      US   \n",
       "2   Redwood City  Proteus Digital Health      US   \n",
       "3    Santa Clara         GLOBALFOUNDRIES      US   \n",
       "4  San Francisco              Samasource      US   \n",
       "\n",
       "                            date expired  formattedLocation  \\\n",
       "0  Wed, 22 Feb 2017 00:08:47 GMT   False        Burbank, CA   \n",
       "1  Mon, 06 Feb 2017 23:25:16 GMT   False        Oakland, CA   \n",
       "2  Fri, 17 Feb 2017 04:08:45 GMT   False   Redwood City, CA   \n",
       "3  Wed, 08 Feb 2017 07:12:14 GMT   False    Santa Clara, CA   \n",
       "4  Fri, 17 Feb 2017 03:46:33 GMT   False  San Francisco, CA   \n",
       "\n",
       "    formattedLocationFull formattedRelativeTime indeedApply            jobkey  \\\n",
       "0             Burbank, CA            1 hour ago       False  fdbd1113c5011d69   \n",
       "1       Oakland, CA 94612           15 days ago       False  456e90c7ee9c4936   \n",
       "2  Redwood City, CA 94065            4 days ago       False  676ec709d44d20b9   \n",
       "3         Santa Clara, CA           13 days ago       False  2597a304d86609fc   \n",
       "4       San Francisco, CA            4 days ago       False  e726041a4f3ec15b   \n",
       "\n",
       "                                            jobtitle  \\\n",
       "0     Market Data Analyst - Undergraduate Internship   \n",
       "1  Global Insights Data Analyst Data Science Inte...   \n",
       "2                                Data Analyst Intern   \n",
       "3                                Data Analyst-Intern   \n",
       "4                    Project/Data Analyst Internship   \n",
       "\n",
       "                onmousedown  \\\n",
       "0  indeed_clk(this,'5647');   \n",
       "1  indeed_clk(this,'5647');   \n",
       "2  indeed_clk(this,'5647');   \n",
       "3  indeed_clk(this,'5647');   \n",
       "4  indeed_clk(this,'5647');   \n",
       "\n",
       "                                             snippet                  source  \\\n",
       "0  Aptitude to perform <b>data</b> and process an...       Kaiser Permanente   \n",
       "1  The Global Insights <b>Data</b> <b>Analyst</b>...      The Clorox Company   \n",
       "2  Mine, clean, and categorize historical <b>data...  Proteus Digital Health   \n",
       "3  <b>Data</b> analysis and validation. Database ...         GLOBALFOUNDRIES   \n",
       "4  The <b>analyst</b> intern analyzes project per...              Samasource   \n",
       "\n",
       "  sponsored state stations                                                url  \n",
       "0     False    CA           http://www.indeed.com/viewjob?jk=fdbd1113c5011...  \n",
       "1     False    CA           http://www.indeed.com/viewjob?jk=456e90c7ee9c4...  \n",
       "2     False    CA           http://www.indeed.com/viewjob?jk=676ec709d44d2...  \n",
       "3     False    CA           http://www.indeed.com/viewjob?jk=2597a304d8660...  \n",
       "4     False    CA           http://www.indeed.com/viewjob?jk=e726041a4f3ec...  "
      ]
     },
     "execution_count": 5,
     "metadata": {},
     "output_type": "execute_result"
    }
   ],
   "source": [
    "print(job_list.shape)\n",
    "job_list.head()"
   ]
  },
  {
   "cell_type": "markdown",
   "metadata": {},
   "source": [
    "## Problems"
   ]
  },
  {
   "cell_type": "markdown",
   "metadata": {},
   "source": [
    "<ol>\n",
    "    <li> Can only get at max 25 jobs per request <font color=\"red\">Change start params</font>\n",
    "    <li> When search for \"Data Analyst\", it is actually searching for \"Data\" and \"Analyst\" as two seperated key words\n",
    "    <li> Cannot extract the job requirement information <font color=\"red\"> Probably need web scraping </font>\n",
    "    <li> \n",
    "</ol>"
   ]
  },
  {
   "cell_type": "markdown",
   "metadata": {
    "collapsed": true
   },
   "source": [
    "## Step 2. Webscraping each post"
   ]
  },
  {
   "cell_type": "code",
   "execution_count": 6,
   "metadata": {
    "collapsed": true
   },
   "outputs": [],
   "source": [
    "url_list = list(job_list['url'])"
   ]
  },
  {
   "cell_type": "code",
   "execution_count": 7,
   "metadata": {
    "collapsed": false
   },
   "outputs": [],
   "source": [
    "def get_post_details(url):\n",
    "    \"\"\"\n",
    "    This function extracts information of the one post by taking a url as input\n",
    "    Output is a dictionary with job title, company name, and description of the job.\n",
    "    \"\"\"\n",
    "    post_doc = requests.get(url).content\n",
    "    post = BeautifulSoup(post_doc, 'html.parser')\n",
    "    \n",
    "    title = post.find('b',attrs={'class':'jobtitle'}).text\n",
    "    company = post.find(attrs={'class':'company'}).text\n",
    "    dis_html = post.find(attrs={'id':'job_summary'})\n",
    "    #subtitle_html = dis_html.find_all('b')\n",
    "    #subtitle = [txt.text for txt in subtitle_html]\n",
    "    post_dict = {'title':title, 'company':company, 'description':dis_html}\n",
    "    return post_dict"
   ]
  },
  {
   "cell_type": "code",
   "execution_count": 12,
   "metadata": {
    "collapsed": true
   },
   "outputs": [],
   "source": [
    "post_summary = [get_post_details(url) for url in url_list]\n",
    "post_summary = pd.DataFrame(post_summary )"
   ]
  },
  {
   "cell_type": "code",
   "execution_count": 13,
   "metadata": {
    "collapsed": false
   },
   "outputs": [
    {
     "data": {
      "text/html": [
       "<div>\n",
       "<table border=\"1\" class=\"dataframe\">\n",
       "  <thead>\n",
       "    <tr style=\"text-align: right;\">\n",
       "      <th></th>\n",
       "      <th>company</th>\n",
       "      <th>description</th>\n",
       "      <th>title</th>\n",
       "    </tr>\n",
       "  </thead>\n",
       "  <tbody>\n",
       "    <tr>\n",
       "      <th>4216</th>\n",
       "      <td>KLA-Tencor</td>\n",
       "      <td>&lt;span class=\"summary\" id=\"job_summary\"&gt;KLA-Ten...</td>\n",
       "      <td>Intern / Co-Op Technical</td>\n",
       "    </tr>\n",
       "    <tr>\n",
       "      <th>4217</th>\n",
       "      <td>Lyft Corporate</td>\n",
       "      <td>&lt;span class=\"summary\" id=\"job_summary\"&gt;Analyti...</td>\n",
       "      <td>Data Analyst Intern (Summer 2017)</td>\n",
       "    </tr>\n",
       "    <tr>\n",
       "      <th>4218</th>\n",
       "      <td>Rubin Postaer and Associates (RPA)</td>\n",
       "      <td>&lt;span class=\"summary\" id=\"job_summary\"&gt;The Res...</td>\n",
       "      <td>Summer Internship - Research, Analytics + Insi...</td>\n",
       "    </tr>\n",
       "    <tr>\n",
       "      <th>4219</th>\n",
       "      <td>Quidel Corporation</td>\n",
       "      <td>&lt;span class=\"summary\" id=\"job_summary\"&gt;Quidel ...</td>\n",
       "      <td>Internship, Data Analyst/Business Intelligence...</td>\n",
       "    </tr>\n",
       "    <tr>\n",
       "      <th>4220</th>\n",
       "      <td>Teradata</td>\n",
       "      <td>&lt;span class=\"summary\" id=\"job_summary\"&gt;Teradat...</td>\n",
       "      <td>Data Analyst and Test Development Intern (Summ...</td>\n",
       "    </tr>\n",
       "  </tbody>\n",
       "</table>\n",
       "</div>"
      ],
      "text/plain": [
       "                                 company  \\\n",
       "4216                          KLA-Tencor   \n",
       "4217                      Lyft Corporate   \n",
       "4218  Rubin Postaer and Associates (RPA)   \n",
       "4219                  Quidel Corporation   \n",
       "4220                            Teradata   \n",
       "\n",
       "                                            description  \\\n",
       "4216  <span class=\"summary\" id=\"job_summary\">KLA-Ten...   \n",
       "4217  <span class=\"summary\" id=\"job_summary\">Analyti...   \n",
       "4218  <span class=\"summary\" id=\"job_summary\">The Res...   \n",
       "4219  <span class=\"summary\" id=\"job_summary\">Quidel ...   \n",
       "4220  <span class=\"summary\" id=\"job_summary\">Teradat...   \n",
       "\n",
       "                                                  title  \n",
       "4216                           Intern / Co-Op Technical  \n",
       "4217                  Data Analyst Intern (Summer 2017)  \n",
       "4218  Summer Internship - Research, Analytics + Insi...  \n",
       "4219  Internship, Data Analyst/Business Intelligence...  \n",
       "4220  Data Analyst and Test Development Intern (Summ...  "
      ]
     },
     "execution_count": 13,
     "metadata": {},
     "output_type": "execute_result"
    }
   ],
   "source": [
    "post_summary.tail()"
   ]
  },
  {
   "cell_type": "code",
   "execution_count": 14,
   "metadata": {
    "collapsed": false
   },
   "outputs": [
    {
     "data": {
      "text/plain": [
       "[<b>Essential Functions:</b>,\n",
       " <b>Department Profile:</b>,\n",
       " <b>Internship Project Summary:</b>,\n",
       " <b>Desired Skill Set:</b>,\n",
       " <b>Basic Qualifications:</b>,\n",
       " <b>Additional Requirements:</b>,\n",
       " <b>Preferred Qualifications:</b>]"
      ]
     },
     "execution_count": 14,
     "metadata": {},
     "output_type": "execute_result"
    }
   ],
   "source": [
    "# subtitle inside job description\n",
    "list(post_summary['description'])[0].find_all('b')"
   ]
  },
  {
   "cell_type": "code",
   "execution_count": 155,
   "metadata": {
    "collapsed": false
   },
   "outputs": [
    {
     "data": {
      "text/plain": [
       "\"Lay the groundwork for a dynamic future with an industry leader. At Kaiser Permanente, you'll forge lasting relationships with\\n\\ncolleagues across the organization while enjoying the opportunity to grow your experience and hone your expertise on assignments\\n\\nthat have real impact. Our interns have worked on everything from analyzing financial software and developing new marketing\\n\\nstrategies, to designing mobile apps and helping clinicians improve care delivery. We want you to get the most out of your time here\\n\\nand will give you projects that challenge you to think freely, question thoroughly, and explore deeply.\\n\\nEssential Functions:\\n\\nContributing to a designated project or initiative to meet a KP business objective.\\nReport development and analytics.\\nProject management - planning, execution, and measurement.\\nLearning new applications needed to complete assignments or support the execution of business objectives.\\nJob shadowing in other functional areas.\\nPerforming additional duties as required.\\n\\nDepartment Profile:\\nMembership, Market & Sales Analytics is responsible for forecasting and analysis of Kaiser membership.\\n\\nInternship Project Summary:\\n1) Explore MDW/MMSA Datamart Report Migration\\n\\n2) Develop Adds/Terms/Transfers Database to support forecasting at this level of detail\\n\\n3) Create Med Center Trend Database to better inform our MCA projections within budgets, LRF and monthly reforecasts\\n\\n4) Assess our Reforecast process, with focus on our Initial Analysis, and support development of a further streamlined process\\n\\n5) Create templates to further align the reforecast process in NCAL & SCAL\\n\\n6) Convert BL Materials to Box (online app to share documents)\\n\\nDesired Skill Set:\\nAnalytical, problem solver, inquisitive, and motivated. Regression modeling and excel/Access/SAS experience preferred.\\n\\nQualifications\\n\\nBasic Qualifications:\\nExperience\\n\\n\\nN/A\\n\\nEducation\\n\\n\\nPursuing a bachelor's degree or have graduated from an accredited university within the last year.\\nHigh School Diploma or General Education Development (GED) required.\\n\\nLicense, Certification, Registration\\n\\n\\nN/A\\n\\nAdditional Requirements:\\n\\nAptitude to perform data and process analytics and formulating solutions\\nWorking knowledge of MS Word, Excel, PowerPoint.\\n\\nPreferred Qualifications:\\n\\n3.0 GPA or above.\\nAdvanced analytical and problem-solving skills.\\nProven ability to build effective working relationships as well as strong interpersonal skills.\\nExcellent verbal and written communication skills\\nAbility to learn quickly and experience producing high quality work in short periods of time.\\n\\n\""
      ]
     },
     "execution_count": 155,
     "metadata": {},
     "output_type": "execute_result"
    }
   ],
   "source": [
    "# The whole paragraph of description\n",
    "list(post_summary['description'])[0].text"
   ]
  },
  {
   "cell_type": "markdown",
   "metadata": {},
   "source": [
    "# Strategy for Extracting Qualifications\n",
    "<ol>\n",
    "    <li> compare all subtitles and find out which subtitles are \"Qualifications\"\n",
    "    <li> split text by using subtitles\n",
    "    <li> compare the word in qualifications and analyze\n",
    "    \n",
    "</ol>"
   ]
  },
  {
   "cell_type": "code",
   "execution_count": 41,
   "metadata": {
    "collapsed": false
   },
   "outputs": [],
   "source": [
    "# get subtitles inside job description\n",
    "def get_subtitle(post):\n",
    "    temp = post.find_all('b')\n",
    "    subtitles = [sub.text for sub in temp]\n",
    "    return subtitles\n",
    "\n",
    "# a list containing the subtitles of each post\n",
    "subtitles = [get_subtitle(post) for post in list(post_summary['description'])]"
   ]
  },
  {
   "cell_type": "code",
   "execution_count": 55,
   "metadata": {
    "collapsed": true
   },
   "outputs": [],
   "source": [
    "stemmer = PorterStemmer().stem\n",
    "\n",
    "tokenize = nltk.word_tokenize\n",
    "\n",
    "def stem(tokens,stemmer = PorterStemmer().stem):\n",
    "    return [stemmer(w.lower()) for w in tokens] \n",
    "\n",
    "def lemmatize(text):\n",
    "    \"\"\"\n",
    "    Extract simple lemmas based on tokenization and stemming\n",
    "    Input: string\n",
    "    Output: list of strings (lemmata)\n",
    "    \"\"\"\n",
    "    return stem(tokenize(text))\n",
    "\n",
    "stop = set(stopwords.words('english'))\n",
    "\n",
    "def diction(files):\n",
    "    \"\"\"\n",
    "    Returns a dictionary from lemmata to document ids containing that lemma\n",
    "    Input is a data frame\n",
    "    Output is a dictionary with lemmata as key and document ids as values\n",
    "    \"\"\"\n",
    "    textd = {} \n",
    "    for i in range(len(files)):\n",
    "        # loop over each raw text\n",
    "        t = ' '.join(files[i])\n",
    "        # return unique and order list of words appeared in the raw text\n",
    "        s = set(lemmatize(t))- stop - set(string.punctuation)\n",
    "        try:\n",
    "            toks = toks | s   # append to \"toks\" set a \"s\"\n",
    "        except NameError:\n",
    "            toks = s    # if doesn't exsit, initialize it\n",
    "        for tok in s:\n",
    "            try:\n",
    "                textd[tok].append(i)\n",
    "            except KeyError:\n",
    "                textd[tok] = [i]\n",
    "    \n",
    "    return textd"
   ]
  },
  {
   "cell_type": "code",
   "execution_count": 59,
   "metadata": {
    "collapsed": false
   },
   "outputs": [],
   "source": [
    "# Lemmata of subtitles and the id of posts containing that Lemmata\n",
    "sub_id = diction(subtitles)"
   ]
  },
  {
   "cell_type": "code",
   "execution_count": 64,
   "metadata": {
    "collapsed": false
   },
   "outputs": [],
   "source": [
    "sub_num = {key:len(set(val)) for key,val in sub_id.items()}"
   ]
  },
  {
   "cell_type": "code",
   "execution_count": 71,
   "metadata": {
    "collapsed": false
   },
   "outputs": [
    {
     "data": {
      "text/html": [
       "<div>\n",
       "<table border=\"1\" class=\"dataframe\">\n",
       "  <thead>\n",
       "    <tr style=\"text-align: right;\">\n",
       "      <th></th>\n",
       "      <th>word</th>\n",
       "      <th># of posts</th>\n",
       "    </tr>\n",
       "  </thead>\n",
       "  <tbody>\n",
       "    <tr>\n",
       "      <th>0</th>\n",
       "      <td>skill</td>\n",
       "      <td>1206</td>\n",
       "    </tr>\n",
       "    <tr>\n",
       "      <th>1</th>\n",
       "      <td>requir</td>\n",
       "      <td>1005</td>\n",
       "    </tr>\n",
       "    <tr>\n",
       "      <th>2</th>\n",
       "      <td>function</td>\n",
       "      <td>1005</td>\n",
       "    </tr>\n",
       "    <tr>\n",
       "      <th>3</th>\n",
       "      <td>desir</td>\n",
       "      <td>804</td>\n",
       "    </tr>\n",
       "    <tr>\n",
       "      <th>4</th>\n",
       "      <td>experi</td>\n",
       "      <td>804</td>\n",
       "    </tr>\n",
       "    <tr>\n",
       "      <th>5</th>\n",
       "      <td>opportun</td>\n",
       "      <td>804</td>\n",
       "    </tr>\n",
       "    <tr>\n",
       "      <th>6</th>\n",
       "      <td>essenti</td>\n",
       "      <td>603</td>\n",
       "    </tr>\n",
       "    <tr>\n",
       "      <th>7</th>\n",
       "      <td>key</td>\n",
       "      <td>603</td>\n",
       "    </tr>\n",
       "    <tr>\n",
       "      <th>8</th>\n",
       "      <td>project</td>\n",
       "      <td>603</td>\n",
       "    </tr>\n",
       "    <tr>\n",
       "      <th>9</th>\n",
       "      <td>set</td>\n",
       "      <td>603</td>\n",
       "    </tr>\n",
       "    <tr>\n",
       "      <th>10</th>\n",
       "      <td>summari</td>\n",
       "      <td>402</td>\n",
       "    </tr>\n",
       "    <tr>\n",
       "      <th>11</th>\n",
       "      <td>qualif</td>\n",
       "      <td>402</td>\n",
       "    </tr>\n",
       "    <tr>\n",
       "      <th>12</th>\n",
       "      <td>equal</td>\n",
       "      <td>402</td>\n",
       "    </tr>\n",
       "    <tr>\n",
       "      <th>13</th>\n",
       "      <td>–</td>\n",
       "      <td>402</td>\n",
       "    </tr>\n",
       "    <tr>\n",
       "      <th>14</th>\n",
       "      <td>respons</td>\n",
       "      <td>402</td>\n",
       "    </tr>\n",
       "    <tr>\n",
       "      <th>15</th>\n",
       "      <td>employ</td>\n",
       "      <td>402</td>\n",
       "    </tr>\n",
       "    <tr>\n",
       "      <th>16</th>\n",
       "      <td>educ</td>\n",
       "      <td>402</td>\n",
       "    </tr>\n",
       "    <tr>\n",
       "      <th>17</th>\n",
       "      <td>prefer</td>\n",
       "      <td>402</td>\n",
       "    </tr>\n",
       "    <tr>\n",
       "      <th>18</th>\n",
       "      <td>data</td>\n",
       "      <td>402</td>\n",
       "    </tr>\n",
       "    <tr>\n",
       "      <th>19</th>\n",
       "      <td>work</td>\n",
       "      <td>402</td>\n",
       "    </tr>\n",
       "    <tr>\n",
       "      <th>20</th>\n",
       "      <td>profil</td>\n",
       "      <td>402</td>\n",
       "    </tr>\n",
       "    <tr>\n",
       "      <th>21</th>\n",
       "      <td>knowledg</td>\n",
       "      <td>402</td>\n",
       "    </tr>\n",
       "    <tr>\n",
       "      <th>22</th>\n",
       "      <td>job</td>\n",
       "      <td>402</td>\n",
       "    </tr>\n",
       "    <tr>\n",
       "      <th>23</th>\n",
       "      <td>intern</td>\n",
       "      <td>402</td>\n",
       "    </tr>\n",
       "    <tr>\n",
       "      <th>24</th>\n",
       "      <td>environ</td>\n",
       "      <td>402</td>\n",
       "    </tr>\n",
       "    <tr>\n",
       "      <th>25</th>\n",
       "      <td>career</td>\n",
       "      <td>402</td>\n",
       "    </tr>\n",
       "    <tr>\n",
       "      <th>26</th>\n",
       "      <td>depart</td>\n",
       "      <td>402</td>\n",
       "    </tr>\n",
       "    <tr>\n",
       "      <th>27</th>\n",
       "      <td>posit</td>\n",
       "      <td>402</td>\n",
       "    </tr>\n",
       "    <tr>\n",
       "      <th>28</th>\n",
       "      <td>internship</td>\n",
       "      <td>402</td>\n",
       "    </tr>\n",
       "    <tr>\n",
       "      <th>29</th>\n",
       "      <td>expect</td>\n",
       "      <td>402</td>\n",
       "    </tr>\n",
       "    <tr>\n",
       "      <th>30</th>\n",
       "      <td>applic</td>\n",
       "      <td>402</td>\n",
       "    </tr>\n",
       "    <tr>\n",
       "      <th>31</th>\n",
       "      <td>look</td>\n",
       "      <td>201</td>\n",
       "    </tr>\n",
       "    <tr>\n",
       "      <th>32</th>\n",
       "      <td>rule</td>\n",
       "      <td>201</td>\n",
       "    </tr>\n",
       "    <tr>\n",
       "      <th>33</th>\n",
       "      <td>analysi</td>\n",
       "      <td>201</td>\n",
       "    </tr>\n",
       "    <tr>\n",
       "      <th>34</th>\n",
       "      <td>fine</td>\n",
       "      <td>201</td>\n",
       "    </tr>\n",
       "    <tr>\n",
       "      <th>35</th>\n",
       "      <td>technolog</td>\n",
       "      <td>201</td>\n",
       "    </tr>\n",
       "    <tr>\n",
       "      <th>36</th>\n",
       "      <td>note</td>\n",
       "      <td>201</td>\n",
       "    </tr>\n",
       "    <tr>\n",
       "      <th>37</th>\n",
       "      <td>accomplish</td>\n",
       "      <td>201</td>\n",
       "    </tr>\n",
       "    <tr>\n",
       "      <th>38</th>\n",
       "      <td>us</td>\n",
       "      <td>201</td>\n",
       "    </tr>\n",
       "    <tr>\n",
       "      <th>39</th>\n",
       "      <td>busi</td>\n",
       "      <td>201</td>\n",
       "    </tr>\n",
       "    <tr>\n",
       "      <th>40</th>\n",
       "      <td>read</td>\n",
       "      <td>201</td>\n",
       "    </tr>\n",
       "    <tr>\n",
       "      <th>41</th>\n",
       "      <td>area</td>\n",
       "      <td>201</td>\n",
       "    </tr>\n",
       "    <tr>\n",
       "      <th>42</th>\n",
       "      <td>warren</td>\n",
       "      <td>201</td>\n",
       "    </tr>\n",
       "    <tr>\n",
       "      <th>43</th>\n",
       "      <td>rai</td>\n",
       "      <td>201</td>\n",
       "    </tr>\n",
       "    <tr>\n",
       "      <th>44</th>\n",
       "      <td>basic</td>\n",
       "      <td>201</td>\n",
       "    </tr>\n",
       "    <tr>\n",
       "      <th>45</th>\n",
       "      <td>major</td>\n",
       "      <td>201</td>\n",
       "    </tr>\n",
       "    <tr>\n",
       "      <th>46</th>\n",
       "      <td>care</td>\n",
       "      <td>201</td>\n",
       "    </tr>\n",
       "    <tr>\n",
       "      <th>47</th>\n",
       "      <td>analyt</td>\n",
       "      <td>201</td>\n",
       "    </tr>\n",
       "    <tr>\n",
       "      <th>48</th>\n",
       "      <td>locat</td>\n",
       "      <td>201</td>\n",
       "    </tr>\n",
       "    <tr>\n",
       "      <th>49</th>\n",
       "      <td>2017</td>\n",
       "      <td>201</td>\n",
       "    </tr>\n",
       "  </tbody>\n",
       "</table>\n",
       "</div>"
      ],
      "text/plain": [
       "          word  # of posts\n",
       "0        skill        1206\n",
       "1       requir        1005\n",
       "2     function        1005\n",
       "3        desir         804\n",
       "4       experi         804\n",
       "5     opportun         804\n",
       "6      essenti         603\n",
       "7          key         603\n",
       "8      project         603\n",
       "9          set         603\n",
       "10     summari         402\n",
       "11      qualif         402\n",
       "12       equal         402\n",
       "13           –         402\n",
       "14     respons         402\n",
       "15      employ         402\n",
       "16        educ         402\n",
       "17      prefer         402\n",
       "18        data         402\n",
       "19        work         402\n",
       "20      profil         402\n",
       "21    knowledg         402\n",
       "22         job         402\n",
       "23      intern         402\n",
       "24     environ         402\n",
       "25      career         402\n",
       "26      depart         402\n",
       "27       posit         402\n",
       "28  internship         402\n",
       "29      expect         402\n",
       "30      applic         402\n",
       "31        look         201\n",
       "32        rule         201\n",
       "33     analysi         201\n",
       "34        fine         201\n",
       "35   technolog         201\n",
       "36        note         201\n",
       "37  accomplish         201\n",
       "38          us         201\n",
       "39        busi         201\n",
       "40        read         201\n",
       "41        area         201\n",
       "42      warren         201\n",
       "43         rai         201\n",
       "44       basic         201\n",
       "45       major         201\n",
       "46        care         201\n",
       "47      analyt         201\n",
       "48       locat         201\n",
       "49        2017         201"
      ]
     },
     "execution_count": 71,
     "metadata": {},
     "output_type": "execute_result"
    }
   ],
   "source": [
    "# Lemmata of subtitles and the number of posts containing that Lemmata\n",
    "sub_num = {key:len(set(val)) for key,val in sub_id.items()}\n",
    "# Sort sub_num\n",
    "sorted_sub = [(key, sub_num[key]) for key in sorted(sub_num, key=lambda x : sub_num[x],\n",
    "                                                              reverse=True)]\n",
    "df_sorted_sub = pd.DataFrame(sorted_sub)\n",
    "df_sorted_sub.columns = ['word', '# of posts']\n",
    "df_sorted_sub.iloc[:50,:]"
   ]
  },
  {
   "cell_type": "code",
   "execution_count": 84,
   "metadata": {
    "collapsed": true
   },
   "outputs": [],
   "source": [
    "keywords = list(df_sorted_sub['word'][[0,1,3,11,16,17]])\n",
    "\n",
    "def get_qual(subtitles):\n",
    "    qual = [sub for sub in subtitles if set(lemmatize(sub)).intersection(keywords)]\n",
    "    return qual\n",
    "qual_sub = [get_qual(sub) for sub in subtitles]"
   ]
  },
  {
   "cell_type": "code",
   "execution_count": null,
   "metadata": {
    "collapsed": true
   },
   "outputs": [],
   "source": [
    "### use subtitles to split "
   ]
  }
 ],
 "metadata": {
  "anaconda-cloud": {},
  "kernelspec": {
   "display_name": "Python [default]",
   "language": "python",
   "name": "python3"
  },
  "language_info": {
   "codemirror_mode": {
    "name": "ipython",
    "version": 3
   },
   "file_extension": ".py",
   "mimetype": "text/x-python",
   "name": "python",
   "nbconvert_exporter": "python",
   "pygments_lexer": "ipython3",
   "version": "3.5.2"
  }
 },
 "nbformat": 4,
 "nbformat_minor": 1
}
