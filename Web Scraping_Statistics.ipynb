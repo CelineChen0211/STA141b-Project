{
 "cells": [
  {
   "cell_type": "code",
   "execution_count": 1,
   "metadata": {
    "collapsed": true
   },
   "outputs": [],
   "source": [
    "import requests\n",
    "import requests_cache\n",
    "requests_cache.install_cache(\"cache\")\n",
    "import pandas as pd\n",
    "from bs4 import BeautifulSoup\n",
    "\n",
    "\n",
    "import string\n",
    "import nltk\n",
    "#from nltk import corpus\n",
    "from nltk.stem.porter import PorterStemmer\n",
    "from nltk.corpus import stopwords\n",
    "from sklearn.feature_extraction.text import TfidfVectorizer   # sklearn --- primer machine learning package\n",
    "from sklearn.neighbors import NearestNeighbors"
   ]
  },
  {
   "cell_type": "code",
   "execution_count": 2,
   "metadata": {
    "collapsed": true
   },
   "outputs": [],
   "source": [
    "publisher_id = \"254802918413674\""
   ]
  },
  {
   "cell_type": "code",
   "execution_count": 3,
   "metadata": {
    "collapsed": true
   },
   "outputs": [],
   "source": [
    "def get_indeed(city, state, keyword, radius, jobtype = \"fulltime\", js = \"json\", start = 0, publisher_id = publisher_id):\n",
    "    url = \"http://api.indeed.com/ads/apisearch?\"\n",
    "    if city == \"\":\n",
    "        location = state\n",
    "    else: \n",
    "        location = city + ', ' + state\n",
    "    result = requests.get(url, params = {\n",
    "            \"q\": keyword,\n",
    "            \"v\": 2,\n",
    "            \"format\": js,\n",
    "            \"publisher\": publisher_id,\n",
    "            \"l\": location,\n",
    "            \"jt\": jobtype, # \"fulltime\", \"parttime\", \"contract\", \"internship\", \"temporary\"\n",
    "            \"radius\": radius,\n",
    "            \"start\": start,\n",
    "            \"limit\": 100,\n",
    "            \"latlong\": 1})\n",
    "    result = result.json()['results']\n",
    "    return result"
   ]
  },
  {
   "cell_type": "code",
   "execution_count": 23,
   "metadata": {
    "collapsed": true
   },
   "outputs": [],
   "source": [
    "def create_job_list(major):\n",
    "    '''This function creates the job list of a major and saves the dataframe as a csv file\n",
    "    Input:  major ----- \"statistics\", \"chemical engineering\", \"material science\"\n",
    "    Output: shape ----- shape of the dataframe\n",
    "            job_list -- a dataframe of the job list of the specified major\n",
    "    '''\n",
    "    # This is a data frame containing basic information of job posts\n",
    "    job_list = pd.DataFrame()\n",
    "    for i in range(0,5000,25):\n",
    "        temp = pd.DataFrame(get_indeed('','ca', major, 0, start = i))\n",
    "        job_list = job_list.append(temp, ignore_index = True)\n",
    "        \n",
    "    # drop duplicate rows\n",
    "    job_list = job_list.drop_duplicates(subset = ['jobkey'])\n",
    "    filename = 'job_ca_' + major + '.csv'\n",
    "    job_list.to_csv(filename)\n",
    "    return job_list.shape, job_list"
   ]
  },
  {
   "cell_type": "code",
   "execution_count": 24,
   "metadata": {
    "collapsed": true
   },
   "outputs": [],
   "source": [
    "stat_shape, stat_list = create_job_list('statistics')\n",
    "stat_shape"
   ]
  },
  {
   "cell_type": "code",
   "execution_count": 26,
   "metadata": {
    "collapsed": true
   },
   "outputs": [],
   "source": [
    "che_shape, che_list = create_job_list('\"chemical engineering\"')\n",
    "che_shape"
   ]
  },
  {
   "cell_type": "code",
   "execution_count": 28,
   "metadata": {
    "collapsed": false
   },
   "outputs": [
    {
     "data": {
      "text/plain": [
       "(347, 20)"
      ]
     },
     "execution_count": 28,
     "metadata": {},
     "output_type": "execute_result"
    }
   ],
   "source": [
    "mse_shape, mse_list = create_job_list('\"materials science\"')\n",
    "mse_shape"
   ]
  },
  {
   "cell_type": "code",
   "execution_count": null,
   "metadata": {
    "collapsed": true
   },
   "outputs": [],
   "source": []
  }
 ],
 "metadata": {
  "anaconda-cloud": {},
  "kernelspec": {
   "display_name": "Python [default]",
   "language": "python",
   "name": "python3"
  },
  "language_info": {
   "codemirror_mode": {
    "name": "ipython",
    "version": 3
   },
   "file_extension": ".py",
   "mimetype": "text/x-python",
   "name": "python",
   "nbconvert_exporter": "python",
   "pygments_lexer": "ipython3",
   "version": "3.5.2"
  }
 },
 "nbformat": 4,
 "nbformat_minor": 1
}
