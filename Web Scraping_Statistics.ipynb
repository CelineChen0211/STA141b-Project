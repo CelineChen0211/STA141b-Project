{
 "cells": [
  {
   "cell_type": "code",
   "execution_count": 1,
   "metadata": {
    "collapsed": true
   },
   "outputs": [],
   "source": [
    "import requests\n",
    "import requests_cache\n",
    "requests_cache.install_cache(\"cache\")\n",
    "import pandas as pd\n",
    "from bs4 import BeautifulSoup\n",
    "\n",
    "\n",
    "import string\n",
    "import nltk\n",
    "#from nltk import corpus\n",
    "from nltk.stem.porter import PorterStemmer\n",
    "from nltk.corpus import stopwords\n",
    "from sklearn.feature_extraction.text import TfidfVectorizer   # sklearn --- primer machine learning package\n",
    "from sklearn.neighbors import NearestNeighbors"
   ]
  },
  {
   "cell_type": "code",
   "execution_count": 2,
   "metadata": {
    "collapsed": true
   },
   "outputs": [],
   "source": [
    "publisher_id = \"254802918413674\""
   ]
  },
  {
   "cell_type": "code",
   "execution_count": 3,
   "metadata": {
    "collapsed": true
   },
   "outputs": [],
   "source": [
    "def get_indeed(city, state, keyword, radius, jobtype = \"fulltime\", js = \"json\", start = 0, publisher_id = publisher_id):\n",
    "    url = \"http://api.indeed.com/ads/apisearch?\"\n",
    "    if city == \"\":\n",
    "        location = state\n",
    "    else: \n",
    "        location = city + ', ' + state\n",
    "    result = requests.get(url, params = {\n",
    "            \"q\": keyword,\n",
    "            \"v\": 2,\n",
    "            \"format\": js,\n",
    "            \"publisher\": publisher_id,\n",
    "            \"l\": location,\n",
    "            \"jt\": jobtype, # \"fulltime\", \"parttime\", \"contract\", \"internship\", \"temporary\"\n",
    "            \"radius\": radius,\n",
    "            \"start\": start,\n",
    "            \"limit\": 100,\n",
    "            \"latlong\": 1})\n",
    "    result = result.json()['results']\n",
    "    return result"
   ]
  },
  {
   "cell_type": "code",
   "execution_count": 6,
   "metadata": {
    "collapsed": true
   },
   "outputs": [],
   "source": [
    "# This is a data frame containing basic information of job posts\n",
    "stat_list = pd.DataFrame()\n",
    "for i in range(0,4000,25):\n",
    "    temp = pd.DataFrame(get_indeed('','ca', '\"statistics\"', 0, start = i))\n",
    "    stat_list = stat_list.append(temp)\n"
   ]
  },
  {
   "cell_type": "code",
   "execution_count": 7,
   "metadata": {
    "collapsed": false
   },
   "outputs": [
    {
     "data": {
      "text/plain": [
       "(4000, 20)"
      ]
     },
     "execution_count": 7,
     "metadata": {},
     "output_type": "execute_result"
    }
   ],
   "source": [
    "stat_list.shape"
   ]
  },
  {
   "cell_type": "code",
   "execution_count": null,
   "metadata": {
    "collapsed": true
   },
   "outputs": [],
   "source": []
  }
 ],
 "metadata": {
  "anaconda-cloud": {},
  "kernelspec": {
   "display_name": "Python [default]",
   "language": "python",
   "name": "python3"
  },
  "language_info": {
   "codemirror_mode": {
    "name": "ipython",
    "version": 3
   },
   "file_extension": ".py",
   "mimetype": "text/x-python",
   "name": "python",
   "nbconvert_exporter": "python",
   "pygments_lexer": "ipython3",
   "version": "3.5.2"
  }
 },
 "nbformat": 4,
 "nbformat_minor": 1
}
