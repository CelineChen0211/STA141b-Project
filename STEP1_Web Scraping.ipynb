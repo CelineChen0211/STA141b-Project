{
 "cells": [
  {
   "cell_type": "markdown",
   "metadata": {},
   "source": [
    "# STEP 1 - WEB SCRAPING"
   ]
  },
  {
   "cell_type": "markdown",
   "metadata": {},
   "source": [
    "### The results of Step 1.1 are three CSV files:\n",
    "\n",
    "* 'job_ca_statistics.csv'\n",
    "\n",
    "* 'job_ca_chemical engineering.csv'\n",
    "\n",
    "* 'job_ca_materials science.csv'\n",
    "\n",
    "### The results of Step 1.2 are three CSV files:\n",
    "\n",
    "* 'summary_stat.csv'\n",
    "\n",
    "* 'summary_che.csv'\n",
    "\n",
    "* 'summary_mse.csv'"
   ]
  },
  {
   "cell_type": "markdown",
   "metadata": {},
   "source": [
    "## Step 1.1 - Using API to get Job Posts"
   ]
  },
  {
   "cell_type": "code",
   "execution_count": 1,
   "metadata": {
    "collapsed": false
   },
   "outputs": [],
   "source": [
    "import requests\n",
    "import requests_cache\n",
    "requests_cache.install_cache(\"cache\")\n",
    "import pandas as pd\n",
    "from bs4 import BeautifulSoup\n",
    "\n",
    "from matplotlib import pyplot as plt\n",
    "import string\n",
    "import nltk\n",
    "from nltk.stem.porter import PorterStemmer\n",
    "from nltk.corpus import stopwords\n",
    "from sklearn.feature_extraction.text import TfidfVectorizer   # sklearn --- primer machine learning package\n",
    "from sklearn.neighbors import NearestNeighbors"
   ]
  },
  {
   "cell_type": "code",
   "execution_count": 2,
   "metadata": {
    "collapsed": true
   },
   "outputs": [],
   "source": [
    "publisher_id = \"254802918413674\""
   ]
  },
  {
   "cell_type": "markdown",
   "metadata": {},
   "source": [
    "http://api.indeed.com/ads/apisearch?publisher=254802918413674&q=java&l=austin%2C+tx&sort=&radius=&st=&jt=&start=&limit=&fromage=&filter=&latlong=1&co=us&chnl=&userip=1.2.3.4&useragent=Mozilla/%2F4.0%28Firefox%29&v=2"
   ]
  },
  {
   "cell_type": "markdown",
   "metadata": {
    "collapsed": true
   },
   "source": [
    "One example of: url = \"http://api.indeed.com/ads/apisearch?publisher=254802918413674&format=json&q=data&l=sunnyvale%2C+ca&sort=&radius=0&st=&jt=internship&start=&limit=1000&fromage=30&filter=&latlong=1&co=us&chnl=&userip=1.2.3.4&useragent=Mozilla/%2F4.0%28Firefox%29&v=2\""
   ]
  },
  {
   "cell_type": "code",
   "execution_count": 3,
   "metadata": {
    "collapsed": false
   },
   "outputs": [],
   "source": [
    "def get_indeed(city, state, keyword, radius, jobtype = \"fulltime\", start = 0, publisher_id = publisher_id):\n",
    "    url = \"http://api.indeed.com/ads/apisearch?\"\n",
    "    if city == \"\":\n",
    "        location = state\n",
    "    else: \n",
    "        location = city + ', ' + state\n",
    "    result = requests.get(url, params = {\n",
    "            \"q\": keyword,\n",
    "            \"v\": 2,\n",
    "            \"format\": \"json\",\n",
    "            \"publisher\": publisher_id,\n",
    "            \"l\": location,\n",
    "            \"jt\": jobtype, # \"fulltime\", \"parttime\", \"contract\", \"internship\", \"temporary\"\n",
    "            \"radius\": radius,\n",
    "            \"start\": start,\n",
    "            \"limit\": 100,\n",
    "            \"latlong\": 1})\n",
    "    result = result.json()['results']\n",
    "    return result"
   ]
  },
  {
   "cell_type": "code",
   "execution_count": 4,
   "metadata": {
    "collapsed": true
   },
   "outputs": [],
   "source": [
    "def create_job_list(major):\n",
    "    '''This function creates the job list of a major and saves the dataframe as a csv file\n",
    "    Input:  major ----- \"statistics\", \"chemical engineering\", \"material science\"\n",
    "    Output: shape ----- shape of the dataframe\n",
    "            job_list -- a dataframe of the job list of the specified major\n",
    "    '''\n",
    "    job_list = pd.DataFrame()\n",
    "    for i in range(0,5000,25):\n",
    "        temp = pd.DataFrame(get_indeed('','ca', major, 0, start = i))\n",
    "        job_list = job_list.append(temp, ignore_index = True)\n",
    "        \n",
    "    # drop duplicate rows\n",
    "    job_list = job_list.drop_duplicates(subset = ['jobkey'])\n",
    "    filename = 'job_ca_' + major + '.csv'\n",
    "    job_list.to_csv(filename)\n",
    "    return job_list.shape, job_list"
   ]
  },
  {
   "cell_type": "code",
   "execution_count": 5,
   "metadata": {
    "collapsed": false
   },
   "outputs": [],
   "source": [
    "shape_stat, stat_joblist = create_job_list(\"statistics\")\n",
    "shape_che, che_joblist = create_job_list(\"chemical engineering\")\n",
    "shape_mse, mst_joblist = create_job_list(\"materials science\")"
   ]
  },
  {
   "cell_type": "markdown",
   "metadata": {
    "collapsed": true
   },
   "source": [
    "## Step 1.2 - Webscraping each post"
   ]
  },
  {
   "cell_type": "code",
   "execution_count": 8,
   "metadata": {
    "collapsed": true
   },
   "outputs": [],
   "source": [
    "def csv2job_url_list(major):\n",
    "    '''This function reads the csv file of the specified major and returns the list of urls.\n",
    "       The url list will be used for web scraping for detailed job descriptions\n",
    "    Input:  major ----- \"statistics\", \"chemical engineering\", \"material science\"\n",
    "    Output: url_list -- list object, urls of job posts\n",
    "    '''\n",
    "    filename = 'job_ca_' + major + '.csv'\n",
    "    job_list = pd.read_csv(filename,index_col=False)\n",
    "    return list(job_list['url'])"
   ]
  },
  {
   "cell_type": "code",
   "execution_count": 9,
   "metadata": {
    "collapsed": false
   },
   "outputs": [],
   "source": [
    "def get_post_details(url):\n",
    "    \"\"\"\n",
    "    This function extracts information of one post by taking a url as input\n",
    "    Output is a dictionary with job title, company name, and description of the job.\n",
    "    \"\"\"\n",
    "    post_doc = requests.get(url).content\n",
    "    post = BeautifulSoup(post_doc, 'html.parser')\n",
    "    try:\n",
    "        title = post.find('b',attrs={'class':'jobtitle'}).text\n",
    "    except AttributeError:\n",
    "        title = ''\n",
    "    try:\n",
    "        company = post.find(attrs={'class':'company'}).text\n",
    "    except AttributeError:\n",
    "        company = ''\n",
    "        \n",
    "    dis_html = post.find(attrs={'id':'job_summary'})\n",
    "    #dis_html = post.find(attrs={'class':'snip'})\n",
    "    \n",
    "    post_dict = {'title':title, 'company':company, 'description':dis_html}\n",
    "    return post_dict"
   ]
  },
  {
   "cell_type": "markdown",
   "metadata": {},
   "source": [
    "## The following 3 cells run forever! Be careful!"
   ]
  },
  {
   "cell_type": "code",
   "execution_count": 10,
   "metadata": {
    "collapsed": true
   },
   "outputs": [],
   "source": [
    "# get dataframes of the majors\n",
    "stat_url_list = csv2job_url_list(\"statistics\")\n",
    "stat_summary = [get_post_details(url) for url in stat_url_list]\n",
    "stat_summary = pd.DataFrame(stat_summary)\n",
    "stat_summary.head()\n",
    "stat_summary.to_csv('summary_stat.csv')"
   ]
  },
  {
   "cell_type": "code",
   "execution_count": 18,
   "metadata": {
    "collapsed": false
   },
   "outputs": [],
   "source": [
    "che_url_list = csv2job_url_list(\"chemical engineering\")\n",
    "che_summary = [get_post_details(url) for url in che_url_list]\n",
    "che_summary = pd.DataFrame(che_summary)\n",
    "che_summary.head()\n",
    "che_summary.to_csv('summary_che.csv')"
   ]
  },
  {
   "cell_type": "code",
   "execution_count": 27,
   "metadata": {
    "collapsed": false
   },
   "outputs": [
    {
     "data": {
      "text/html": [
       "<div>\n",
       "<table border=\"1\" class=\"dataframe\">\n",
       "  <thead>\n",
       "    <tr style=\"text-align: right;\">\n",
       "      <th></th>\n",
       "      <th>company</th>\n",
       "      <th>description</th>\n",
       "      <th>title</th>\n",
       "    </tr>\n",
       "  </thead>\n",
       "  <tbody>\n",
       "    <tr>\n",
       "      <th>0</th>\n",
       "      <td>Lawrence Livermore National Laboratory</td>\n",
       "      <td>&lt;span class=\"summary\" id=\"job_summary\"&gt;Materia...</td>\n",
       "      <td>Materials Scientist/Physicist</td>\n",
       "    </tr>\n",
       "    <tr>\n",
       "      <th>1</th>\n",
       "      <td>Intel</td>\n",
       "      <td>&lt;span class=\"summary\" id=\"job_summary\"&gt;Job Des...</td>\n",
       "      <td>R&amp;D Process Engineer</td>\n",
       "    </tr>\n",
       "    <tr>\n",
       "      <th>2</th>\n",
       "      <td>Tesla Motors</td>\n",
       "      <td>&lt;span class=\"summary\" id=\"job_summary\"&gt;Failure...</td>\n",
       "      <td>Reliability Engineer - Failure Analysis</td>\n",
       "    </tr>\n",
       "    <tr>\n",
       "      <th>3</th>\n",
       "      <td>SpaceX</td>\n",
       "      <td>&lt;span class=\"summary\" id=\"job_summary\"&gt;SpaceX ...</td>\n",
       "      <td>Materials Engineer (Avionics)</td>\n",
       "    </tr>\n",
       "    <tr>\n",
       "      <th>4</th>\n",
       "      <td>Google</td>\n",
       "      <td>&lt;span class=\"summary\" id=\"job_summary\"&gt;Our com...</td>\n",
       "      <td>Reliability Engineer, Failure Analysis and Mat...</td>\n",
       "    </tr>\n",
       "  </tbody>\n",
       "</table>\n",
       "</div>"
      ],
      "text/plain": [
       "                                  company  \\\n",
       "0  Lawrence Livermore National Laboratory   \n",
       "1                                   Intel   \n",
       "2                            Tesla Motors   \n",
       "3                                  SpaceX   \n",
       "4                                  Google   \n",
       "\n",
       "                                         description  \\\n",
       "0  <span class=\"summary\" id=\"job_summary\">Materia...   \n",
       "1  <span class=\"summary\" id=\"job_summary\">Job Des...   \n",
       "2  <span class=\"summary\" id=\"job_summary\">Failure...   \n",
       "3  <span class=\"summary\" id=\"job_summary\">SpaceX ...   \n",
       "4  <span class=\"summary\" id=\"job_summary\">Our com...   \n",
       "\n",
       "                                               title  \n",
       "0                      Materials Scientist/Physicist  \n",
       "1                               R&D Process Engineer  \n",
       "2            Reliability Engineer - Failure Analysis  \n",
       "3                      Materials Engineer (Avionics)  \n",
       "4  Reliability Engineer, Failure Analysis and Mat...  "
      ]
     },
     "execution_count": 27,
     "metadata": {},
     "output_type": "execute_result"
    }
   ],
   "source": [
    "mse_url_list = csv2job_url_list(\"materials science\")\n",
    "mse_summary = [get_post_details(url) for url in mse_url_list]\n",
    "mse_summary = pd.DataFrame(mse_summary)\n",
    "mse_summary.to_csv('summary_mse.csv')\n",
    "mse_summary.head()"
   ]
  }
 ],
 "metadata": {
  "anaconda-cloud": {},
  "kernelspec": {
   "display_name": "Python 3",
   "language": "python",
   "name": "python3"
  },
  "language_info": {
   "codemirror_mode": {
    "name": "ipython",
    "version": 3
   },
   "file_extension": ".py",
   "mimetype": "text/x-python",
   "name": "python",
   "nbconvert_exporter": "python",
   "pygments_lexer": "ipython3",
   "version": "3.5.2"
  }
 },
 "nbformat": 4,
 "nbformat_minor": 1
}
